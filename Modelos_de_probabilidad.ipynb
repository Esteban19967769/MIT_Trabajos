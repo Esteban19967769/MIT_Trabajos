{
  "nbformat": 4,
  "nbformat_minor": 0,
  "metadata": {
    "colab": {
      "provenance": [],
      "authorship_tag": "ABX9TyOZnEatU5l8RBQyQiZSuDA2",
      "include_colab_link": true
    },
    "kernelspec": {
      "name": "python3",
      "display_name": "Python 3"
    },
    "language_info": {
      "name": "python"
    }
  },
  "cells": [
    {
      "cell_type": "markdown",
      "metadata": {
        "id": "view-in-github",
        "colab_type": "text"
      },
      "source": [
        "<a href=\"https://colab.research.google.com/github/Esteban19967769/MIT_Trabajos/blob/main/Modelos_de_probabilidad.ipynb\" target=\"_parent\"><img src=\"https://colab.research.google.com/assets/colab-badge.svg\" alt=\"Open In Colab\"/></a>"
      ]
    },
    {
      "cell_type": "code",
      "source": [
        "from scipy.stats import binom\n",
        "binom.pmf(k = 7,n = 10, p = 0.6)\n",
        "#este es para P(X=7)\n",
        "#El pmf para probabilidad absoluta"
      ],
      "metadata": {
        "colab": {
          "base_uri": "https://localhost:8080/"
        },
        "id": "rms3Ufl79UjB",
        "outputId": "d264a51b-6936-4aea-8abd-b7e6076188c2"
      },
      "execution_count": 3,
      "outputs": [
        {
          "output_type": "execute_result",
          "data": {
            "text/plain": [
              "0.21499084799999976"
            ]
          },
          "metadata": {},
          "execution_count": 3
        }
      ]
    },
    {
      "cell_type": "code",
      "source": [
        "from scipy.stats import binom\n",
        "1 - binom.cdf(k = 5,n = 15, p = 0.75)\n",
        "#p(X>=6)=1-p(X<6)\n",
        "#El cdf para la probabilidad acumulada"
      ],
      "metadata": {
        "colab": {
          "base_uri": "https://localhost:8080/"
        },
        "id": "-V5lS0-P9oec",
        "outputId": "e4f72bc1-5e1f-4db2-9d88-be229d7a8119"
      },
      "execution_count": 4,
      "outputs": [
        {
          "output_type": "execute_result",
          "data": {
            "text/plain": [
              "0.9992050509899855"
            ]
          },
          "metadata": {},
          "execution_count": 4
        }
      ]
    },
    {
      "cell_type": "code",
      "source": [
        "import numpy as np\n",
        "from scipy.stats import uniform\n",
        "\n",
        "# Definir el rango de la distribución uniforme\n",
        "rango_inicio = 5\n",
        "rango_fin = 10\n",
        "\n",
        "# Crear una instancia de la distribución uniforme\n",
        "dist_uniforme = uniform(loc=rango_inicio, scale=rango_fin-rango_inicio)\n",
        "\n",
        "# Calcular la densidad de probabilidad (PDF) para un valor específico\n",
        "valor = 2\n",
        "pdf = dist_uniforme.pdf(valor)\n",
        "print(\"La densidad de probabilidad para x =\", valor, \"es:\", pdf)\n",
        "\n",
        "# Calcular la probabilidad acumulativa (CDF) para un valor específico\n",
        "#cdf = dist_uniforme.cdf(valor)\n",
        "#print(\"La probabilidad acumulativa para x <\", valor, \"es:\", cdf)"
      ],
      "metadata": {
        "colab": {
          "base_uri": "https://localhost:8080/"
        },
        "id": "8OtIeRzn-xbY",
        "outputId": "9c00d6ba-a8bc-4e9c-82cd-4a3177cc90ad"
      },
      "execution_count": 7,
      "outputs": [
        {
          "output_type": "stream",
          "name": "stdout",
          "text": [
            "La densidad de probabilidad para x = 2 es: 0.0\n"
          ]
        }
      ]
    },
    {
      "cell_type": "code",
      "source": [
        "import pandas as pd\n",
        "debugging= pd.read_csv(\"debugging.csv\")"
      ],
      "metadata": {
        "id": "gJjdarly_-8T"
      },
      "execution_count": 8,
      "outputs": []
    },
    {
      "cell_type": "code",
      "source": [
        "debugging"
      ],
      "metadata": {
        "colab": {
          "base_uri": "https://localhost:8080/",
          "height": 424
        },
        "id": "LxqD_9ecAPPO",
        "outputId": "9d35f4e8-fabd-4374-f3ff-6b1edff9792a"
      },
      "execution_count": 10,
      "outputs": [
        {
          "output_type": "execute_result",
          "data": {
            "text/plain": [
              "      Bug ID  Time Taken to fix the bug\n",
              "0      12986                       2.42\n",
              "1      12987                       2.03\n",
              "2      12988                       2.74\n",
              "3      12989                       3.21\n",
              "4      12990                       3.40\n",
              "...      ...                        ...\n",
              "2093   15079                       4.17\n",
              "2094   15080                       1.05\n",
              "2095   15081                       2.50\n",
              "2096   15082                       2.85\n",
              "2097   15083                       2.64\n",
              "\n",
              "[2098 rows x 2 columns]"
            ],
            "text/html": [
              "\n",
              "  <div id=\"df-cd18eb6e-77e5-4e41-a4d2-0c584a7ecd4f\" class=\"colab-df-container\">\n",
              "    <div>\n",
              "<style scoped>\n",
              "    .dataframe tbody tr th:only-of-type {\n",
              "        vertical-align: middle;\n",
              "    }\n",
              "\n",
              "    .dataframe tbody tr th {\n",
              "        vertical-align: top;\n",
              "    }\n",
              "\n",
              "    .dataframe thead th {\n",
              "        text-align: right;\n",
              "    }\n",
              "</style>\n",
              "<table border=\"1\" class=\"dataframe\">\n",
              "  <thead>\n",
              "    <tr style=\"text-align: right;\">\n",
              "      <th></th>\n",
              "      <th>Bug ID</th>\n",
              "      <th>Time Taken to fix the bug</th>\n",
              "    </tr>\n",
              "  </thead>\n",
              "  <tbody>\n",
              "    <tr>\n",
              "      <th>0</th>\n",
              "      <td>12986</td>\n",
              "      <td>2.42</td>\n",
              "    </tr>\n",
              "    <tr>\n",
              "      <th>1</th>\n",
              "      <td>12987</td>\n",
              "      <td>2.03</td>\n",
              "    </tr>\n",
              "    <tr>\n",
              "      <th>2</th>\n",
              "      <td>12988</td>\n",
              "      <td>2.74</td>\n",
              "    </tr>\n",
              "    <tr>\n",
              "      <th>3</th>\n",
              "      <td>12989</td>\n",
              "      <td>3.21</td>\n",
              "    </tr>\n",
              "    <tr>\n",
              "      <th>4</th>\n",
              "      <td>12990</td>\n",
              "      <td>3.40</td>\n",
              "    </tr>\n",
              "    <tr>\n",
              "      <th>...</th>\n",
              "      <td>...</td>\n",
              "      <td>...</td>\n",
              "    </tr>\n",
              "    <tr>\n",
              "      <th>2093</th>\n",
              "      <td>15079</td>\n",
              "      <td>4.17</td>\n",
              "    </tr>\n",
              "    <tr>\n",
              "      <th>2094</th>\n",
              "      <td>15080</td>\n",
              "      <td>1.05</td>\n",
              "    </tr>\n",
              "    <tr>\n",
              "      <th>2095</th>\n",
              "      <td>15081</td>\n",
              "      <td>2.50</td>\n",
              "    </tr>\n",
              "    <tr>\n",
              "      <th>2096</th>\n",
              "      <td>15082</td>\n",
              "      <td>2.85</td>\n",
              "    </tr>\n",
              "    <tr>\n",
              "      <th>2097</th>\n",
              "      <td>15083</td>\n",
              "      <td>2.64</td>\n",
              "    </tr>\n",
              "  </tbody>\n",
              "</table>\n",
              "<p>2098 rows × 2 columns</p>\n",
              "</div>\n",
              "    <div class=\"colab-df-buttons\">\n",
              "\n",
              "  <div class=\"colab-df-container\">\n",
              "    <button class=\"colab-df-convert\" onclick=\"convertToInteractive('df-cd18eb6e-77e5-4e41-a4d2-0c584a7ecd4f')\"\n",
              "            title=\"Convert this dataframe to an interactive table.\"\n",
              "            style=\"display:none;\">\n",
              "\n",
              "  <svg xmlns=\"http://www.w3.org/2000/svg\" height=\"24px\" viewBox=\"0 -960 960 960\">\n",
              "    <path d=\"M120-120v-720h720v720H120Zm60-500h600v-160H180v160Zm220 220h160v-160H400v160Zm0 220h160v-160H400v160ZM180-400h160v-160H180v160Zm440 0h160v-160H620v160ZM180-180h160v-160H180v160Zm440 0h160v-160H620v160Z\"/>\n",
              "  </svg>\n",
              "    </button>\n",
              "\n",
              "  <style>\n",
              "    .colab-df-container {\n",
              "      display:flex;\n",
              "      gap: 12px;\n",
              "    }\n",
              "\n",
              "    .colab-df-convert {\n",
              "      background-color: #E8F0FE;\n",
              "      border: none;\n",
              "      border-radius: 50%;\n",
              "      cursor: pointer;\n",
              "      display: none;\n",
              "      fill: #1967D2;\n",
              "      height: 32px;\n",
              "      padding: 0 0 0 0;\n",
              "      width: 32px;\n",
              "    }\n",
              "\n",
              "    .colab-df-convert:hover {\n",
              "      background-color: #E2EBFA;\n",
              "      box-shadow: 0px 1px 2px rgba(60, 64, 67, 0.3), 0px 1px 3px 1px rgba(60, 64, 67, 0.15);\n",
              "      fill: #174EA6;\n",
              "    }\n",
              "\n",
              "    .colab-df-buttons div {\n",
              "      margin-bottom: 4px;\n",
              "    }\n",
              "\n",
              "    [theme=dark] .colab-df-convert {\n",
              "      background-color: #3B4455;\n",
              "      fill: #D2E3FC;\n",
              "    }\n",
              "\n",
              "    [theme=dark] .colab-df-convert:hover {\n",
              "      background-color: #434B5C;\n",
              "      box-shadow: 0px 1px 3px 1px rgba(0, 0, 0, 0.15);\n",
              "      filter: drop-shadow(0px 1px 2px rgba(0, 0, 0, 0.3));\n",
              "      fill: #FFFFFF;\n",
              "    }\n",
              "  </style>\n",
              "\n",
              "    <script>\n",
              "      const buttonEl =\n",
              "        document.querySelector('#df-cd18eb6e-77e5-4e41-a4d2-0c584a7ecd4f button.colab-df-convert');\n",
              "      buttonEl.style.display =\n",
              "        google.colab.kernel.accessAllowed ? 'block' : 'none';\n",
              "\n",
              "      async function convertToInteractive(key) {\n",
              "        const element = document.querySelector('#df-cd18eb6e-77e5-4e41-a4d2-0c584a7ecd4f');\n",
              "        const dataTable =\n",
              "          await google.colab.kernel.invokeFunction('convertToInteractive',\n",
              "                                                    [key], {});\n",
              "        if (!dataTable) return;\n",
              "\n",
              "        const docLinkHtml = 'Like what you see? Visit the ' +\n",
              "          '<a target=\"_blank\" href=https://colab.research.google.com/notebooks/data_table.ipynb>data table notebook</a>'\n",
              "          + ' to learn more about interactive tables.';\n",
              "        element.innerHTML = '';\n",
              "        dataTable['output_type'] = 'display_data';\n",
              "        await google.colab.output.renderOutput(dataTable, element);\n",
              "        const docLink = document.createElement('div');\n",
              "        docLink.innerHTML = docLinkHtml;\n",
              "        element.appendChild(docLink);\n",
              "      }\n",
              "    </script>\n",
              "  </div>\n",
              "\n",
              "\n",
              "<div id=\"df-02ca2b2f-24d3-401c-8367-f26d76a04d85\">\n",
              "  <button class=\"colab-df-quickchart\" onclick=\"quickchart('df-02ca2b2f-24d3-401c-8367-f26d76a04d85')\"\n",
              "            title=\"Suggest charts\"\n",
              "            style=\"display:none;\">\n",
              "\n",
              "<svg xmlns=\"http://www.w3.org/2000/svg\" height=\"24px\"viewBox=\"0 0 24 24\"\n",
              "     width=\"24px\">\n",
              "    <g>\n",
              "        <path d=\"M19 3H5c-1.1 0-2 .9-2 2v14c0 1.1.9 2 2 2h14c1.1 0 2-.9 2-2V5c0-1.1-.9-2-2-2zM9 17H7v-7h2v7zm4 0h-2V7h2v10zm4 0h-2v-4h2v4z\"/>\n",
              "    </g>\n",
              "</svg>\n",
              "  </button>\n",
              "\n",
              "<style>\n",
              "  .colab-df-quickchart {\n",
              "      --bg-color: #E8F0FE;\n",
              "      --fill-color: #1967D2;\n",
              "      --hover-bg-color: #E2EBFA;\n",
              "      --hover-fill-color: #174EA6;\n",
              "      --disabled-fill-color: #AAA;\n",
              "      --disabled-bg-color: #DDD;\n",
              "  }\n",
              "\n",
              "  [theme=dark] .colab-df-quickchart {\n",
              "      --bg-color: #3B4455;\n",
              "      --fill-color: #D2E3FC;\n",
              "      --hover-bg-color: #434B5C;\n",
              "      --hover-fill-color: #FFFFFF;\n",
              "      --disabled-bg-color: #3B4455;\n",
              "      --disabled-fill-color: #666;\n",
              "  }\n",
              "\n",
              "  .colab-df-quickchart {\n",
              "    background-color: var(--bg-color);\n",
              "    border: none;\n",
              "    border-radius: 50%;\n",
              "    cursor: pointer;\n",
              "    display: none;\n",
              "    fill: var(--fill-color);\n",
              "    height: 32px;\n",
              "    padding: 0;\n",
              "    width: 32px;\n",
              "  }\n",
              "\n",
              "  .colab-df-quickchart:hover {\n",
              "    background-color: var(--hover-bg-color);\n",
              "    box-shadow: 0 1px 2px rgba(60, 64, 67, 0.3), 0 1px 3px 1px rgba(60, 64, 67, 0.15);\n",
              "    fill: var(--button-hover-fill-color);\n",
              "  }\n",
              "\n",
              "  .colab-df-quickchart-complete:disabled,\n",
              "  .colab-df-quickchart-complete:disabled:hover {\n",
              "    background-color: var(--disabled-bg-color);\n",
              "    fill: var(--disabled-fill-color);\n",
              "    box-shadow: none;\n",
              "  }\n",
              "\n",
              "  .colab-df-spinner {\n",
              "    border: 2px solid var(--fill-color);\n",
              "    border-color: transparent;\n",
              "    border-bottom-color: var(--fill-color);\n",
              "    animation:\n",
              "      spin 1s steps(1) infinite;\n",
              "  }\n",
              "\n",
              "  @keyframes spin {\n",
              "    0% {\n",
              "      border-color: transparent;\n",
              "      border-bottom-color: var(--fill-color);\n",
              "      border-left-color: var(--fill-color);\n",
              "    }\n",
              "    20% {\n",
              "      border-color: transparent;\n",
              "      border-left-color: var(--fill-color);\n",
              "      border-top-color: var(--fill-color);\n",
              "    }\n",
              "    30% {\n",
              "      border-color: transparent;\n",
              "      border-left-color: var(--fill-color);\n",
              "      border-top-color: var(--fill-color);\n",
              "      border-right-color: var(--fill-color);\n",
              "    }\n",
              "    40% {\n",
              "      border-color: transparent;\n",
              "      border-right-color: var(--fill-color);\n",
              "      border-top-color: var(--fill-color);\n",
              "    }\n",
              "    60% {\n",
              "      border-color: transparent;\n",
              "      border-right-color: var(--fill-color);\n",
              "    }\n",
              "    80% {\n",
              "      border-color: transparent;\n",
              "      border-right-color: var(--fill-color);\n",
              "      border-bottom-color: var(--fill-color);\n",
              "    }\n",
              "    90% {\n",
              "      border-color: transparent;\n",
              "      border-bottom-color: var(--fill-color);\n",
              "    }\n",
              "  }\n",
              "</style>\n",
              "\n",
              "  <script>\n",
              "    async function quickchart(key) {\n",
              "      const quickchartButtonEl =\n",
              "        document.querySelector('#' + key + ' button');\n",
              "      quickchartButtonEl.disabled = true;  // To prevent multiple clicks.\n",
              "      quickchartButtonEl.classList.add('colab-df-spinner');\n",
              "      try {\n",
              "        const charts = await google.colab.kernel.invokeFunction(\n",
              "            'suggestCharts', [key], {});\n",
              "      } catch (error) {\n",
              "        console.error('Error during call to suggestCharts:', error);\n",
              "      }\n",
              "      quickchartButtonEl.classList.remove('colab-df-spinner');\n",
              "      quickchartButtonEl.classList.add('colab-df-quickchart-complete');\n",
              "    }\n",
              "    (() => {\n",
              "      let quickchartButtonEl =\n",
              "        document.querySelector('#df-02ca2b2f-24d3-401c-8367-f26d76a04d85 button');\n",
              "      quickchartButtonEl.style.display =\n",
              "        google.colab.kernel.accessAllowed ? 'block' : 'none';\n",
              "    })();\n",
              "  </script>\n",
              "</div>\n",
              "\n",
              "  <div id=\"id_c8e11ccf-16b0-4139-97b2-0e076882441e\">\n",
              "    <style>\n",
              "      .colab-df-generate {\n",
              "        background-color: #E8F0FE;\n",
              "        border: none;\n",
              "        border-radius: 50%;\n",
              "        cursor: pointer;\n",
              "        display: none;\n",
              "        fill: #1967D2;\n",
              "        height: 32px;\n",
              "        padding: 0 0 0 0;\n",
              "        width: 32px;\n",
              "      }\n",
              "\n",
              "      .colab-df-generate:hover {\n",
              "        background-color: #E2EBFA;\n",
              "        box-shadow: 0px 1px 2px rgba(60, 64, 67, 0.3), 0px 1px 3px 1px rgba(60, 64, 67, 0.15);\n",
              "        fill: #174EA6;\n",
              "      }\n",
              "\n",
              "      [theme=dark] .colab-df-generate {\n",
              "        background-color: #3B4455;\n",
              "        fill: #D2E3FC;\n",
              "      }\n",
              "\n",
              "      [theme=dark] .colab-df-generate:hover {\n",
              "        background-color: #434B5C;\n",
              "        box-shadow: 0px 1px 3px 1px rgba(0, 0, 0, 0.15);\n",
              "        filter: drop-shadow(0px 1px 2px rgba(0, 0, 0, 0.3));\n",
              "        fill: #FFFFFF;\n",
              "      }\n",
              "    </style>\n",
              "    <button class=\"colab-df-generate\" onclick=\"generateWithVariable('debugging')\"\n",
              "            title=\"Generate code using this dataframe.\"\n",
              "            style=\"display:none;\">\n",
              "\n",
              "  <svg xmlns=\"http://www.w3.org/2000/svg\" height=\"24px\"viewBox=\"0 0 24 24\"\n",
              "       width=\"24px\">\n",
              "    <path d=\"M7,19H8.4L18.45,9,17,7.55,7,17.6ZM5,21V16.75L18.45,3.32a2,2,0,0,1,2.83,0l1.4,1.43a1.91,1.91,0,0,1,.58,1.4,1.91,1.91,0,0,1-.58,1.4L9.25,21ZM18.45,9,17,7.55Zm-12,3A5.31,5.31,0,0,0,4.9,8.1,5.31,5.31,0,0,0,1,6.5,5.31,5.31,0,0,0,4.9,4.9,5.31,5.31,0,0,0,6.5,1,5.31,5.31,0,0,0,8.1,4.9,5.31,5.31,0,0,0,12,6.5,5.46,5.46,0,0,0,6.5,12Z\"/>\n",
              "  </svg>\n",
              "    </button>\n",
              "    <script>\n",
              "      (() => {\n",
              "      const buttonEl =\n",
              "        document.querySelector('#id_c8e11ccf-16b0-4139-97b2-0e076882441e button.colab-df-generate');\n",
              "      buttonEl.style.display =\n",
              "        google.colab.kernel.accessAllowed ? 'block' : 'none';\n",
              "\n",
              "      buttonEl.onclick = () => {\n",
              "        google.colab.notebook.generateWithVariable('debugging');\n",
              "      }\n",
              "      })();\n",
              "    </script>\n",
              "  </div>\n",
              "\n",
              "    </div>\n",
              "  </div>\n"
            ],
            "application/vnd.google.colaboratory.intrinsic+json": {
              "type": "dataframe",
              "variable_name": "debugging",
              "summary": "{\n  \"name\": \"debugging\",\n  \"rows\": 2098,\n  \"fields\": [\n    {\n      \"column\": \"Bug ID\",\n      \"properties\": {\n        \"dtype\": \"number\",\n        \"std\": 605,\n        \"min\": 12986,\n        \"max\": 15083,\n        \"num_unique_values\": 2098,\n        \"samples\": [\n          13991,\n          14064,\n          13053\n        ],\n        \"semantic_type\": \"\",\n        \"description\": \"\"\n      }\n    },\n    {\n      \"column\": \"Time Taken to fix the bug\",\n      \"properties\": {\n        \"dtype\": \"number\",\n        \"std\": 1.1471482047102486,\n        \"min\": 1.01,\n        \"max\": 5.0,\n        \"num_unique_values\": 399,\n        \"samples\": [\n          1.29,\n          3.56,\n          1.75\n        ],\n        \"semantic_type\": \"\",\n        \"description\": \"\"\n      }\n    }\n  ]\n}"
            }
          },
          "metadata": {},
          "execution_count": 10
        }
      ]
    },
    {
      "cell_type": "code",
      "source": [
        "debugging[\"Time Taken to fix the bug\"].describe()  #resumen estadistico de dos variables"
      ],
      "metadata": {
        "colab": {
          "base_uri": "https://localhost:8080/"
        },
        "id": "XGySbE7MAS0d",
        "outputId": "2d223356-be37-48f0-bdf1-8baa03d132d5"
      },
      "execution_count": 15,
      "outputs": [
        {
          "output_type": "execute_result",
          "data": {
            "text/plain": [
              "count    2098.000000\n",
              "mean        3.012531\n",
              "std         1.147148\n",
              "min         1.010000\n",
              "25%         2.010000\n",
              "50%         3.005000\n",
              "75%         4.030000\n",
              "max         5.000000\n",
              "Name: Time Taken to fix the bug, dtype: float64"
            ]
          },
          "metadata": {},
          "execution_count": 15
        }
      ]
    },
    {
      "cell_type": "code",
      "source": [
        "# Definir el rango de la distribución uniforme\n",
        "rango_inicio = 1\n",
        "rango_fin = 5\n",
        "\n",
        "# Crear una instancia de la distribución uniforme\n",
        "dist_uniforme = uniform(loc=rango_inicio, scale=rango_fin-rango_inicio)\n",
        "\n",
        "# Calcular la probabilidad acumulativa (CDF) para un valor específico\n",
        "valor = 2\n",
        "cdf = dist_uniforme.cdf(valor)\n",
        "print(\"La probabilidad acumulativa para x <\", valor, \"es:\", cdf)\n",
        "\n",
        "# Calcular la probabilidad NO acumulativa (CDF) para un valor específico\n",
        "valor = 4.2\n",
        "cdf = 1-dist_uniforme.cdf(valor)\n",
        "print(\"La probabilidad acumulativa para x >\", valor, \"es:\", cdf)"
      ],
      "metadata": {
        "colab": {
          "base_uri": "https://localhost:8080/"
        },
        "id": "T0J4H8ThAtbM",
        "outputId": "4a03425b-9285-435c-d321-4ece1b76667a"
      },
      "execution_count": 18,
      "outputs": [
        {
          "output_type": "stream",
          "name": "stdout",
          "text": [
            "La probabilidad acumulativa para x < 2 es: 0.25\n",
            "La probabilidad acumulativa para x > 4.2 es: 0.19999999999999996\n"
          ]
        }
      ]
    },
    {
      "cell_type": "code",
      "source": [
        "import scipy.stats as st\n",
        "st.uniform.cdf(2,loc=1,scale=4)\n",
        "#Esta es otra forma, loc es el limite inferior y scale es L.S-L.I (5-1)"
      ],
      "metadata": {
        "colab": {
          "base_uri": "https://localhost:8080/"
        },
        "id": "MVoKKaeqPcOt",
        "outputId": "5b5e686e-2427-4775-db31-8fec34dcec9b"
      },
      "execution_count": 54,
      "outputs": [
        {
          "output_type": "execute_result",
          "data": {
            "text/plain": [
              "0.25"
            ]
          },
          "metadata": {},
          "execution_count": 54
        }
      ]
    },
    {
      "cell_type": "markdown",
      "source": [
        "Supongamos que X es una variable aleatoria continua que se distribuye uniformemente entre 3 y 8. ¿Cuál de las siguientes funciones se puede utilizar para encontrar P(X<=5.8)?"
      ],
      "metadata": {
        "id": "94G9vRa9RLRs"
      }
    },
    {
      "cell_type": "code",
      "source": [
        "import scipy.stats as st\n",
        "st.uniform.cdf(5.8,loc=3,scale=5)\n",
        "#Comprobado con la integral (3 a 5.8)1/b-a dx"
      ],
      "metadata": {
        "colab": {
          "base_uri": "https://localhost:8080/"
        },
        "id": "zeoulW9gQ3o9",
        "outputId": "f1959b54-1745-4187-9293-3877df9f3adc"
      },
      "execution_count": 55,
      "outputs": [
        {
          "output_type": "execute_result",
          "data": {
            "text/plain": [
              "0.5599999999999999"
            ]
          },
          "metadata": {},
          "execution_count": 55
        }
      ]
    },
    {
      "cell_type": "markdown",
      "source": [
        "El peso medio de un paquete de cereales para el desayuno es de 0,295 kg con una desviación estándar de 0,025 kg. La variable aleatoria peso del paquete sigue una distribución normal. ¿A qué desviaciones típicas de la media está un paquete que pesa 0,260 kg?"
      ],
      "metadata": {
        "id": "NRBt0R3dD2HC"
      }
    },
    {
      "cell_type": "code",
      "source": [
        "import scipy.stats as stats       # this library contains a large number of probability distributions as well as a growing library of statistical functions\n",
        "round(stats.norm.cdf(0.26,loc=0.295,scale=0.025))\n",
        "#loc es la media y scale la devesta\n",
        "\n",
        "#PREGUNTAN POR Z, Z es a cuants desviacion tipicas estan de la media"
      ],
      "metadata": {
        "colab": {
          "base_uri": "https://localhost:8080/"
        },
        "id": "H34ZRwlnD3ir",
        "outputId": "f998adbd-e3a9-4f76-b5d7-2e655f4fb800"
      },
      "execution_count": 21,
      "outputs": [
        {
          "output_type": "execute_result",
          "data": {
            "text/plain": [
              "0"
            ]
          },
          "metadata": {},
          "execution_count": 21
        }
      ]
    },
    {
      "cell_type": "markdown",
      "source": [
        "Calcular el valor de z -\n",
        "\n",
        "z =( x - mu) / sigma\n",
        "\n",
        "(0.260 - 0.295) / (0.025) = -1.4\n",
        "\n",
        "Por lo tanto, un paquete que pesa 0,260 kg está -1,4 desviaciones estándar por debajo de la media 0,295. [por debajo porque el valor z es negativo]"
      ],
      "metadata": {
        "id": "2Nf2_N1gEEMi"
      }
    },
    {
      "cell_type": "code",
      "source": [
        "sat = pd.read_csv(\"sat_score.csv\")"
      ],
      "metadata": {
        "id": "_AFhr1yyEdzw"
      },
      "execution_count": 22,
      "outputs": []
    },
    {
      "cell_type": "markdown",
      "source": [
        "Utilice los mismos datos que se discutieron en el vídeo práctico sobre la distribución normal para responder a las preguntas 2, 3 y 4.\n",
        "\n",
        "Calcule la probabilidad de que un estudiante obtenga una puntuación inferior o igual a 750 en el examen SAT 2020."
      ],
      "metadata": {
        "id": "uj8UD54CE-tD"
      }
    },
    {
      "cell_type": "code",
      "source": [
        "sat[\"score\"].describe()  #resumen estadistico de dos variables"
      ],
      "metadata": {
        "colab": {
          "base_uri": "https://localhost:8080/"
        },
        "id": "zUMODWZGEjDa",
        "outputId": "7eeee0a9-29aa-448e-c772-42b7796cee24"
      },
      "execution_count": 25,
      "outputs": [
        {
          "output_type": "execute_result",
          "data": {
            "text/plain": [
              "count    1000.000000\n",
              "mean     1007.460000\n",
              "std       204.426007\n",
              "min       288.000000\n",
              "25%       873.000000\n",
              "50%      1010.000000\n",
              "75%      1148.000000\n",
              "max      1612.000000\n",
              "Name: score, dtype: float64"
            ]
          },
          "metadata": {},
          "execution_count": 25
        }
      ]
    },
    {
      "cell_type": "code",
      "source": [
        "round(stats.norm.cdf(750,loc=1007.46,scale=204.42), 6) #6 son los decimales a dejar en el resultado"
      ],
      "metadata": {
        "colab": {
          "base_uri": "https://localhost:8080/"
        },
        "id": "Q6I-niWYEkHk",
        "outputId": "c77c34a4-427c-44ca-b5fa-b683f8fa2422"
      },
      "execution_count": 27,
      "outputs": [
        {
          "output_type": "execute_result",
          "data": {
            "text/plain": [
              "0.103931"
            ]
          },
          "metadata": {},
          "execution_count": 27
        }
      ]
    },
    {
      "cell_type": "markdown",
      "source": [
        "Calcule la puntuación mínima que debe obtener un estudiante para conseguir el percentil 95 en el SAT 2020.\n"
      ],
      "metadata": {
        "id": "eeE_MDupE_7O"
      }
    },
    {
      "cell_type": "code",
      "source": [
        "round(stats.norm.ppf(0.95,1007.46,204.43), 6) #6 son los decimales a dejar en el resultado\n",
        "#PPF es para calcular la variable aleatoria dada una probabilidad"
      ],
      "metadata": {
        "colab": {
          "base_uri": "https://localhost:8080/"
        },
        "id": "sDm3suNTFBYt",
        "outputId": "0e5b5906-fa39-4b45-cfbf-5e3940632eab"
      },
      "execution_count": 29,
      "outputs": [
        {
          "output_type": "execute_result",
          "data": {
            "text/plain": [
              "1343.717427"
            ]
          },
          "metadata": {},
          "execution_count": 29
        }
      ]
    },
    {
      "cell_type": "markdown",
      "source": [
        "Calcule las notas mínimas que debe obtener un estudiante para estar en el 10% superior en el SAT 2020.\n"
      ],
      "metadata": {
        "id": "dcjTWHomFtzo"
      }
    },
    {
      "cell_type": "code",
      "source": [
        "round(stats.norm.ppf(0.9,1007.46,204.43), 6) #6 son los decimales a dejar en el resultado"
      ],
      "metadata": {
        "colab": {
          "base_uri": "https://localhost:8080/"
        },
        "id": "ThcgG4GgF0rJ",
        "outputId": "4faf9bb8-69c1-416f-865e-c42f2fc2c3fb"
      },
      "execution_count": 30,
      "outputs": [
        {
          "output_type": "execute_result",
          "data": {
            "text/plain": [
              "1269.447587"
            ]
          },
          "metadata": {},
          "execution_count": 30
        }
      ]
    },
    {
      "cell_type": "markdown",
      "source": [
        "Los salarios de los empleados de una empresa se distribuyen normalmente con una media de $55000 y una desviación estándar de $6200. ¿Qué porcentaje de empleados gana aproximadamente entre $59000 y $67000?"
      ],
      "metadata": {
        "id": "bidMJ-eAGUvh"
      }
    },
    {
      "cell_type": "code",
      "source": [
        "round(stats.norm.cdf(67000,loc=55000.46,scale=6200), 6) - round(stats.norm.cdf(59000,loc=55000,scale=6200), 6)"
      ],
      "metadata": {
        "colab": {
          "base_uri": "https://localhost:8080/"
        },
        "id": "Rhkxk9BYGVHc",
        "outputId": "a471f771-960b-4241-9436-50be4a3898e7"
      },
      "execution_count": 31,
      "outputs": [
        {
          "output_type": "execute_result",
          "data": {
            "text/plain": [
              "0.23294099999999995"
            ]
          },
          "metadata": {},
          "execution_count": 31
        }
      ]
    },
    {
      "cell_type": "markdown",
      "source": [
        "Una universidad realiza un examen común para todos los estudiantes. Para la parte de Matemáticas de este examen, las puntuaciones se distribuyen normalmente con una media de 502 y una desviación estándar de 115. Basándose en esta información, ¿qué porcentaje de estudiantes se espera que obtenga una puntuación entre 400 y 590?"
      ],
      "metadata": {
        "id": "G0n74XXUSOgr"
      }
    },
    {
      "cell_type": "code",
      "source": [
        "round(stats.norm.cdf(590,loc=502,scale=115), 2) - round(stats.norm.cdf(400,loc=502,scale=115), 2)"
      ],
      "metadata": {
        "colab": {
          "base_uri": "https://localhost:8080/"
        },
        "id": "21txDZCbSQJd",
        "outputId": "394df206-e270-4e02-f28b-f8d22d2b0767"
      },
      "execution_count": 58,
      "outputs": [
        {
          "output_type": "execute_result",
          "data": {
            "text/plain": [
              "0.5900000000000001"
            ]
          },
          "metadata": {},
          "execution_count": 58
        }
      ]
    },
    {
      "cell_type": "markdown",
      "source": [
        "Un estudiante quiere decidir cuál de estas tres asignaturas (física, historia e informática), ha sacado mejores resultados en la clase. Los datos de las puntuaciones de física, historia e informática se indican en la siguiente tabla.\n",
        "\n",
        "Título\tMarcas anotadas\tFuera de\tMedios de comunicación\tDesviación estándar\n",
        "Física\t56.88\t80\t47.5\t12.3\n",
        "Historia\t77.1\t100\t77\t8.2\n",
        "Informática\t35.55\t50\t33\t7.3\n",
        "Ayude al alumno a decidir en qué asignatura su rendimiento es bueno."
      ],
      "metadata": {
        "id": "EqhWYzFQGvvM"
      }
    },
    {
      "cell_type": "markdown",
      "source": [
        "Para comparar diferentes distribuciones, primero hay que transformarlas a la misma escala. Este proceso se llama estandarización. La puntuación Z es un proceso de estandarización.\n",
        "\n",
        "La puntuación Z nos ayuda a comparar dos o más distribuciones normales con diferentes parámetros. Calculemos la puntuación z de los tres sujetos.\n",
        "\n",
        "Puntuación Z de Física = (56,88-47,5)/12,3 = 0 ,7626\n",
        "Puntuación Z de Historia = (77,1-77)/7,1 = 0,012\n",
        "Puntuación Z de Informática = (35,55-33)/7,3 = 0,3439\n",
        "\n",
        "Como la puntuación z es más alta en Historia, el alumno ha obtenido la mejor puntuación en Física."
      ],
      "metadata": {
        "id": "JOEkvqEGGy7j"
      }
    },
    {
      "cell_type": "code",
      "source": [
        "# importar la función requerida\n",
        "from scipy.stats import uniform\n",
        "import numpy as np\n",
        "import matplotlib.pyplot as plt\n",
        "\n",
        "# establecer la semilla para la reproducibilidad\n",
        "np.random.seed(1)\n",
        "# crear una población de distribución uniforme de tamaño 100000\n",
        "uniform_pop = uniform.rvs(0, 10, size=100000)\n",
        "# visualizar la distribución uniforme\n",
        "plt.hist(uniform_pop)\n",
        "plt.title(\"Población de distribución uniforme\")\n",
        "plt.xlabel(\"X~U(0,10)\")\n",
        "plt.ylabel(\"Count\")\n",
        "plt.show()"
      ],
      "metadata": {
        "colab": {
          "base_uri": "https://localhost:8080/",
          "height": 472
        },
        "id": "NAQHEUmuIhVQ",
        "outputId": "2d1ddb97-334e-49e2-e8ea-9f7e991380b5"
      },
      "execution_count": 32,
      "outputs": [
        {
          "output_type": "display_data",
          "data": {
            "text/plain": [
              "<Figure size 640x480 with 1 Axes>"
            ],
            "image/png": "[encoded data removed]"
          },
          "metadata": {}
        }
      ]
    },
    {
      "cell_type": "code",
      "source": [
        "from scipy.stats import expon\n",
        "import numpy as np\n",
        "np.random.seed(1)\n",
        "exp_pop = expon.rvs(size=100000)\n",
        "n = 50\n",
        "sample_means = []\n",
        "for j in range(500):\n",
        " sample = np.random.choice(exp_pop, size = n)\n",
        " sample_mean = np.mean(sample)\n",
        " sample_means.append(sample_mean)\n",
        " sample_means"
      ],
      "metadata": {
        "id": "eL6D75QVIqKh"
      },
      "execution_count": 35,
      "outputs": []
    },
    {
      "cell_type": "markdown",
      "source": [
        "Laestimación puntual es una estimación basada en una sola muestra aleatoria. Si se tomaran repetidas muestras aleatorias de la población, se esperaría que la estimación puntual variara de una muestra a otra.\n",
        "\n",
        "Suponga que tiene una población hipotética formada por el conjunto de observaciones {10, 12, 20, 15, 34, 17, 21, 20, 19, 13}. En un intento de estimar la media de la población, seleccionas al azar una muestra de tamaño 3 {15, 21, 20}. La estimación puntual de la media de la población es (15+21+20)/3 = 18,67.\n",
        "\n",
        "Ahora, ha vuelto a seleccionar aleatoriamente una muestra de tamaño 3 y ha obtenido los valores {15,10,19}. La estimación puntual utilizando esta muestra es igual a 14,67.\n",
        "\n",
        "Por lo tanto, una estimación puntual varía cada vez que se toma una muestra de la población. Por lo tanto, no es un método de estimación muy fiable."
      ],
      "metadata": {
        "id": "uN-OnYLeJCLO"
      }
    },
    {
      "cell_type": "markdown",
      "source": [
        "## Intervalo confianza"
      ],
      "metadata": {
        "id": "8qUNH7YQJU5O"
      }
    },
    {
      "cell_type": "markdown",
      "source": [
        "Se toma una muestra aleatoria de 100 hombres y se encuentra que su altura media es de 180 cm. La varianza de la población es de 36 cm2. Encuentra el intervalo de confianza del 95% para la altura media de la población(μ)."
      ],
      "metadata": {
        "id": "FpzX8SbZJNrf"
      }
    },
    {
      "cell_type": "code",
      "source": [
        "# import the required function\n",
        "from scipy.stats import norm\n",
        "import numpy as np\n",
        "\n",
        "# set the values of sample mean and sigma\n",
        "x_bar, sigma = 180, 6\n",
        "\n",
        "# set the value of sample size\n",
        "n = 100\n",
        "\n",
        "# construct the confidence interval\n",
        "np.round(norm.interval(0.95, loc = x_bar, scale = sigma/np.sqrt(n)), 3)"
      ],
      "metadata": {
        "colab": {
          "base_uri": "https://localhost:8080/"
        },
        "id": "H22zfFcgJQrL",
        "outputId": "5c1ed136-049e-4562-a7b0-f9986c914a75"
      },
      "execution_count": 37,
      "outputs": [
        {
          "output_type": "execute_result",
          "data": {
            "text/plain": [
              "array([178.824, 181.176])"
            ]
          },
          "metadata": {},
          "execution_count": 37
        }
      ]
    },
    {
      "cell_type": "markdown",
      "source": [
        "Un propietario quiere alquilar un apartamento de un dormitorio sin amueblar en Chicago. El alquiler mensual medio de una muestra aleatoria de 100 apartamentos anunciados en un sitio web que ofrece apartamentos en alquiler en Chicago es de 1.000 dólares.\n",
        "\n",
        "Suponga una desviación estándar de la población de 200 dólares. ¿Cuál es el intervalo de confianza del 95% para la renta media?"
      ],
      "metadata": {
        "id": "-fyNFRi-JnLh"
      }
    },
    {
      "cell_type": "code",
      "source": [
        "# import the required function\n",
        "from scipy.stats import norm\n",
        "import numpy as np\n",
        "\n",
        "# set the values of sample mean and sigma\n",
        "x_bar, sigma = 1000, 200\n",
        "\n",
        "# set the value of sample size\n",
        "n = 100\n",
        "\n",
        "# construct the confidence interval\n",
        "np.round(norm.interval(0.95, loc = x_bar, scale = sigma/np.sqrt(n)), 1)"
      ],
      "metadata": {
        "colab": {
          "base_uri": "https://localhost:8080/"
        },
        "id": "IrfeONHoJnsB",
        "outputId": "c9eaf36d-bf21-45e7-bddc-5728ba5b80a8"
      },
      "execution_count": 39,
      "outputs": [
        {
          "output_type": "execute_result",
          "data": {
            "text/plain": [
              "array([ 960.8, 1039.2])"
            ]
          },
          "metadata": {},
          "execution_count": 39
        }
      ]
    },
    {
      "cell_type": "markdown",
      "source": [
        "El Departamento de Censos de Población (DPC) realizó una encuesta entre mujeres de 16 a 60 años, y descubrió que una muestra de cincuenta estudiantes femeninas tiene una altura media de 160,9 cm con una desviación estándar de 6 cm.\n",
        "\n",
        "Determina el intervalo de confianza de la altura con un nivel de confianza del 95% y concluye si sus alturas son típicas de la población general."
      ],
      "metadata": {
        "id": "Wkh8KqXsJzE5"
      }
    },
    {
      "cell_type": "code",
      "source": [
        "# import the required function\n",
        "from scipy.stats import t\n",
        "import numpy as np\n",
        "\n",
        "# set the values of sample mean and sigma\n",
        "x_bar, sigma = 160.9, 6\n",
        "\n",
        "# set the value of sample size\n",
        "n = 50\n",
        "\n",
        "# construct the confidence interval (confianza, grados libertad,media,devesta formula)\n",
        "np.round(t.interval(0.95, 49, loc = x_bar, scale = sigma/np.sqrt(n)), 2)"
      ],
      "metadata": {
        "colab": {
          "base_uri": "https://localhost:8080/"
        },
        "id": "AdeACdetJzVt",
        "outputId": "ae231609-e851-49f0-c4cc-98a8bcf9563c"
      },
      "execution_count": 47,
      "outputs": [
        {
          "output_type": "execute_result",
          "data": {
            "text/plain": [
              "array([159.19, 162.61])"
            ]
          },
          "metadata": {},
          "execution_count": 47
        }
      ]
    },
    {
      "cell_type": "markdown",
      "source": [
        "Puede haber dos tipos de errores asociados a una prueba de hipótesis:\n",
        "\n",
        "Error de tipo 1 - Cuando rechazamos la hipótesis nula cuando en realidad es verdadera.\n",
        "\n",
        "Error de tipo 2: cuando no se rechaza la hipótesis nula cuando en realidad es falsa.\n",
        "\n",
        "La probabilidad de error de tipo 1 se denomina nivel de significación, que se denota por alfa (LaTeX: \\N - alfa). Por ejemplo, un nivel de significación de 0,05 indica un riesgo del 5% de concluir que existe una diferencia significativa cuando en realidad no la hay. El nivel de significación se decide previamente antes de realizar una prueba."
      ],
      "metadata": {
        "id": "b9ATL3B8M1fV"
      }
    },
    {
      "cell_type": "markdown",
      "source": [
        "Supongamos que la altura de los hombres en Estados Unidos se distribuye normalmente con una media de 65.6 pulgadas y una desviación estándar de 2.7 pulgadas. ¿Cuál de las siguientes funciones puede utilizarse para hallar la probabilidad de que la altura media sea superior a 63.0 pulgadas?"
      ],
      "metadata": {
        "id": "3He36IDLOp2p"
      }
    },
    {
      "cell_type": "code",
      "source": [
        "1-round(stats.norm.cdf(63,loc=65.6,scale=2.7), 2) #6 son los decimales a dejar en el resultado"
      ],
      "metadata": {
        "colab": {
          "base_uri": "https://localhost:8080/"
        },
        "id": "afRfCOuPM3zt",
        "outputId": "a1615ebc-b56d-4059-91c3-5304f5c5a3b0"
      },
      "execution_count": 49,
      "outputs": [
        {
          "output_type": "execute_result",
          "data": {
            "text/plain": [
              "0.83"
            ]
          },
          "metadata": {},
          "execution_count": 49
        }
      ]
    },
    {
      "cell_type": "code",
      "source": [],
      "metadata": {
        "id": "idD5l0TFM2GH"
      },
      "execution_count": null,
      "outputs": []
    }
  ]
}